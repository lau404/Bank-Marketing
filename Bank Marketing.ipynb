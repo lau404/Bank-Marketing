{
 "cells": [
  {
   "cell_type": "markdown",
   "metadata": {
    "collapsed": true
   },
   "source": [
    "# 银行定期存款产品营销数据分析\n",
    "\n",
    "## 目录\n",
    "> **简介**\n",
    "\n",
    "> **数据清洗**\n",
    "\n",
    "> **可视化分析**\n",
    "\n",
    "> **回归分析**\n",
    "\n",
    "> **结论**\n",
    "\n",
    "## 简介\n",
    "> 本数据集来自葡萄牙银行定期存款产品营销活动数据，主要包含三部分的信息。第一部分为客户基本信息，如年龄、职业、婚姻状况、受教育程度等；第二部分为与客户的沟通信息，如上次营销活动中与客户沟通时所在的月份、工作日、时长等；第三部分为社会经济数据，如消费者价格指数、消费者信心指数等。\n",
    "\n",
    "> 通过此数据集，我们将要探讨以下问题：具备哪什么特征的客户更有可能购买定期存款产品？在什么时间与客户沟通更有可能让客户购买存款产品？如何根据数据分析结果指导银行的营销活动？"
   ]
  },
  {
   "cell_type": "markdown",
   "metadata": {},
   "source": [
    "## 1.数据清洗"
   ]
  },
  {
   "cell_type": "code",
   "execution_count": 1,
   "metadata": {},
   "outputs": [
    {
     "name": "stderr",
     "output_type": "stream",
     "text": [
      "C:\\Users\\Liu\\Anaconda3\\lib\\site-packages\\statsmodels\\compat\\pandas.py:56: FutureWarning: The pandas.core.datetools module is deprecated and will be removed in a future version. Please use the pandas.tseries module instead.\n",
      "  from pandas.core import datetools\n"
     ]
    }
   ],
   "source": [
    "import pandas as pd\n",
    "import numpy as np\n",
    "import matplotlib.pyplot as plt\n",
    "import statsmodels.api as sm\n",
    "% matplotlib inline"
   ]
  },
  {
   "cell_type": "code",
   "execution_count": 2,
   "metadata": {},
   "outputs": [
    {
     "name": "stdout",
     "output_type": "stream",
     "text": [
      "<class 'pandas.core.frame.DataFrame'>\n",
      "RangeIndex: 41188 entries, 0 to 41187\n",
      "Data columns (total 21 columns):\n",
      "age               41188 non-null int64\n",
      "job               41188 non-null object\n",
      "marital           41188 non-null object\n",
      "education         41188 non-null object\n",
      "default           41188 non-null object\n",
      "housing           41188 non-null object\n",
      "loan              41188 non-null object\n",
      "contact           41188 non-null object\n",
      "month             41188 non-null object\n",
      "day_of_week       41188 non-null object\n",
      "duration          41188 non-null int64\n",
      "campaign          41188 non-null int64\n",
      "pdays             41188 non-null int64\n",
      "previous          41188 non-null int64\n",
      "poutcome          41188 non-null object\n",
      "emp.var.rate      41188 non-null float64\n",
      "cons.price.idx    41188 non-null float64\n",
      "cons.conf.idx     41188 non-null float64\n",
      "euribor3m         41188 non-null float64\n",
      "nr.employed       41188 non-null float64\n",
      "y                 41188 non-null object\n",
      "dtypes: float64(5), int64(5), object(11)\n",
      "memory usage: 6.6+ MB\n"
     ]
    }
   ],
   "source": [
    "df=pd.read_csv('bank-additional-full.csv',sep=';')\n",
    "df.head(10)\n",
    "df.info()"
   ]
  },
  {
   "cell_type": "code",
   "execution_count": 3,
   "metadata": {
    "collapsed": true
   },
   "outputs": [],
   "source": [
    "df.duplicated().sum()\n",
    "df.drop_duplicates(inplace=True)"
   ]
  },
  {
   "cell_type": "markdown",
   "metadata": {},
   "source": [
    "## 2.可视化分析\n",
    "\n",
    "**2.1 各年龄段购买银行存款的比例**"
   ]
  },
  {
   "cell_type": "code",
   "execution_count": 4,
   "metadata": {},
   "outputs": [],
   "source": [
    "#查看年龄分布情况\n",
    "df['age'].describe()\n",
    "\n",
    "#分组\n",
    "bin_age=[17.00000,30.00000,40.00000,50.00000,98.00000]\n",
    "bin_name=['A','B','C','D']\n",
    "df['age_cut']=pd.cut(df['age'],bin_age,labels=bin_name,include_lowest=True)"
   ]
  },
  {
   "cell_type": "code",
   "execution_count": 5,
   "metadata": {
    "collapsed": true
   },
   "outputs": [],
   "source": [
    "#计算各组购买、不购买存款产品的比例\n",
    "age=df.groupby(['age_cut','y'])['age'].count()\n",
    "age_total=df.groupby(['age_cut']).count()['age']\n",
    "proportion=age/age_total"
   ]
  },
  {
   "cell_type": "code",
   "execution_count": 6,
   "metadata": {},
   "outputs": [
    {
     "data": {
      "text/plain": [
       "<matplotlib.legend.Legend at 0x1a85b2026d8>"
      ]
     },
     "execution_count": 6,
     "metadata": {},
     "output_type": "execute_result"
    },
    {
     "data": {
      "image/png": "[encoded data removed]",
      "text/plain": [
       "<matplotlib.figure.Figure at 0x1a85b2ff898>"
      ]
     },
     "metadata": {},
     "output_type": "display_data"
    }
   ],
   "source": [
    "#绘制柱状图\n",
    "proportion_no=proportion[:,'no']\n",
    "proportion_yes=proportion[:,'yes']\n",
    "ind=np.arange(proportion_no.shape[0])\n",
    "width=0.3\n",
    "\n",
    "yes_bar=plt.bar(ind,proportion_yes,width,color='g',alpha=0.7,label='yes')\n",
    "no_bar=plt.bar(ind+width,proportion_no,width,color='r',alpha=0.7,label='no')\n",
    "\n",
    "plt.ylabel('Proportion')\n",
    "plt.xlabel('Age')\n",
    "plt.title('Proportion of Yes and No by Age Generation')\n",
    "locations = ind + width / 2  # x 坐标刻度位置\n",
    "labels = ['<30', '30-40', '40-50', '>=50']  # x 坐标刻度标签\n",
    "plt.xticks(locations, labels)\n",
    "\n",
    "plt.legend(loc='upper left')"
   ]
  },
  {
   "cell_type": "markdown",
   "metadata": {
    "collapsed": true
   },
   "source": [
    "由上图可知，低于30岁和高于50岁人群购买产品比例高于中间人群。"
   ]
  },
  {
   "cell_type": "markdown",
   "metadata": {},
   "source": [
    "**2.2 职业与购买银行存款产品的关系**"
   ]
  },
  {
   "cell_type": "code",
   "execution_count": 7,
   "metadata": {
    "collapsed": true
   },
   "outputs": [],
   "source": [
    "df_job=df.drop(df.query('job==\"unknown\"').index,axis=0)\n",
    "job=df_job.groupby(['job','y'])['age'].count()\n",
    "job_total=df_job.groupby('job')['age'].count()\n",
    "proportion=job/job_total"
   ]
  },
  {
   "cell_type": "code",
   "execution_count": 8,
   "metadata": {},
   "outputs": [
    {
     "data": {
      "text/plain": [
       "<matplotlib.legend.Legend at 0x1a85bae8860>"
      ]
     },
     "execution_count": 8,
     "metadata": {},
     "output_type": "execute_result"
    },
    {
     "data": {
      "image/png": "[encoded data removed]",
      "text/plain": [
       "<matplotlib.figure.Figure at 0x1a85b2ff908>"
      ]
     },
     "metadata": {},
     "output_type": "display_data"
    }
   ],
   "source": [
    "proportion_yes=proportion[:,'yes']\n",
    "proportion_no=proportion[:,'no']\n",
    "\n",
    "ind=np.arange(proportion_yes.shape[0])\n",
    "\n",
    "yes_bar=plt.bar(ind,proportion_yes,width,color='g',alpha=0.7,label='yes')\n",
    "no_bar=plt.bar(ind+width,proportion_no,width,color='r',alpha=0.7,label='no')\n",
    "\n",
    "plt.ylabel('Proportion')\n",
    "plt.xlabel('Job')\n",
    "plt.title('Proportion of Yes and No by Job')\n",
    "locations = ind + width / 2  # x 坐标刻度位置\n",
    "labels = ['admin', 'blue-collar', 'entrepreneur', 'housemaid','management','retired','self-employed','services','student','technician','unemployed']  # x 坐标刻度标签\n",
    "plt.xticks(locations,labels,rotation=70)\n",
    "\n",
    "plt.legend(loc='upper left')"
   ]
  },
  {
   "cell_type": "markdown",
   "metadata": {
    "collapsed": true
   },
   "source": [
    "由图可知，退休人群和学生购买定期存款的比例明显高于其他人群。"
   ]
  },
  {
   "cell_type": "markdown",
   "metadata": {
    "collapsed": true
   },
   "source": [
    "**2.3 受教育程度与购买银行定期存款的关系**"
   ]
  },
  {
   "cell_type": "code",
   "execution_count": 9,
   "metadata": {
    "collapsed": true
   },
   "outputs": [],
   "source": [
    "df_education=df.drop(df.query('education==\"unknown\"').index,axis=0)\n",
    "education=df_education.groupby(['education','y'])['age'].count()\n",
    "education_total=df_education.groupby('education')['age'].count()\n",
    "proportion=education/education_total"
   ]
  },
  {
   "cell_type": "code",
   "execution_count": 10,
   "metadata": {},
   "outputs": [
    {
     "data": {
      "text/plain": [
       "<matplotlib.legend.Legend at 0x1a85c45fe48>"
      ]
     },
     "execution_count": 10,
     "metadata": {},
     "output_type": "execute_result"
    },
    {
     "data": {
      "image/png": "[encoded data removed]",
      "text/plain": [
       "<matplotlib.figure.Figure at 0x1a85b2a5208>"
      ]
     },
     "metadata": {},
     "output_type": "display_data"
    }
   ],
   "source": [
    "proportion_yes=proportion[:,'yes']\n",
    "proportion_no=proportion[:,'no']\n",
    "\n",
    "ind=np.arange(proportion_yes.shape[0])\n",
    "\n",
    "yes_bar=plt.bar(ind,proportion_yes,width,color='g',alpha=0.7,label='yes')\n",
    "no_bar=plt.bar(ind+width,proportion_no,width,color='r',alpha=0.7,label='no')\n",
    "\n",
    "plt.ylabel('Proportion')\n",
    "plt.xlabel('Education')\n",
    "plt.title('Proportion of Yes and No by Education')\n",
    "locations = ind + width / 2  # x 坐标刻度位置\n",
    "labels = ['basic.4y', 'basic.6y', 'basic.9y', 'high.school','illiterate','professional.course','university.degree']  # x 坐标刻度标签\n",
    "plt.xticks(locations,labels,rotation=70)\n",
    "\n",
    "plt.legend(loc='upper left')"
   ]
  },
  {
   "cell_type": "markdown",
   "metadata": {},
   "source": [
    "由图可知，不识字人群购买定期存款的比例最高。"
   ]
  },
  {
   "cell_type": "markdown",
   "metadata": {
    "collapsed": true
   },
   "source": [
    "**2.4 房贷与购买存款产品的关系**"
   ]
  },
  {
   "cell_type": "markdown",
   "metadata": {},
   "source": [
    "*注：由于'default'、‘loan’数据分别存在部分缺失、数据量相差太大的问题，因此使用数据质量更好的‘housing’进行分析。*"
   ]
  },
  {
   "cell_type": "code",
   "execution_count": 11,
   "metadata": {},
   "outputs": [],
   "source": [
    "df_housing=df.drop(df.query('housing==\"unknown\"').index)\n",
    "housing=df_housing.groupby(['housing','y'])['age'].count()\n",
    "housing_total=df_housing.groupby('housing')['age'].count()\n",
    "proportion=housing/housing_total"
   ]
  },
  {
   "cell_type": "code",
   "execution_count": 12,
   "metadata": {},
   "outputs": [
    {
     "data": {
      "text/plain": [
       "<matplotlib.legend.Legend at 0x1a85c45fef0>"
      ]
     },
     "execution_count": 12,
     "metadata": {},
     "output_type": "execute_result"
    },
    {
     "data": {
      "image/png": "[encoded data removed]",
      "text/plain": [
       "<matplotlib.figure.Figure at 0x1a85b27db00>"
      ]
     },
     "metadata": {},
     "output_type": "display_data"
    }
   ],
   "source": [
    "proportion_yes=proportion[:,'yes']\n",
    "proportion_no=proportion[:,'no']\n",
    "\n",
    "ind=np.arange(proportion_yes.shape[0])\n",
    "\n",
    "yes_bar=plt.bar(ind,proportion_yes,width,color='g',alpha=0.7,label='yes')\n",
    "no_bar=plt.bar(ind+width,proportion_no,width,color='r',alpha=0.7,label='no')\n",
    "\n",
    "plt.ylabel('Proportion')\n",
    "plt.xlabel('Housing')\n",
    "plt.title('Proportion of Yes and No by Housing')\n",
    "locations = ind + width / 2  # x 坐标刻度位置\n",
    "labels = ['No_housing','Yes_housing']  # x 坐标刻度标签\n",
    "plt.xticks(locations,labels,rotation=70)\n",
    "\n",
    "plt.legend(loc='upper left')"
   ]
  },
  {
   "cell_type": "markdown",
   "metadata": {},
   "source": [
    "有/无房贷人群中购买产品的比例差别不大。"
   ]
  },
  {
   "cell_type": "markdown",
   "metadata": {},
   "source": [
    "**小结: 从上述分析可知，客户年龄对其是否会购买存款产品无明显影响；从职业来看，学生和退休人群中购买存款产品的比例更；不识字人群中购买存款产品的比例相比其它学历人群更高。**"
   ]
  },
  {
   "cell_type": "markdown",
   "metadata": {},
   "source": [
    "**2.5 不同月份购买银行定期存款的差异**"
   ]
  },
  {
   "cell_type": "code",
   "execution_count": 13,
   "metadata": {
    "collapsed": true
   },
   "outputs": [],
   "source": [
    "df_month=df.drop(df.query('month==\"unknown\"').index,axis=0)\n",
    "month=df_month.groupby(['month','y'])['age'].count()\n",
    "month_total=df_month.groupby('month')['age'].count()\n",
    "proportion=month/month_total"
   ]
  },
  {
   "cell_type": "code",
   "execution_count": 14,
   "metadata": {},
   "outputs": [
    {
     "data": {
      "text/plain": [
       "<matplotlib.legend.Legend at 0x1a85d3720f0>"
      ]
     },
     "execution_count": 14,
     "metadata": {},
     "output_type": "execute_result"
    },
    {
     "data": {
      "image/png": "[encoded data removed]",
      "text/plain": [
       "<matplotlib.figure.Figure at 0x1a85c433630>"
      ]
     },
     "metadata": {},
     "output_type": "display_data"
    }
   ],
   "source": [
    "proportion_yes=proportion[:,'yes']\n",
    "proportion_no=proportion[:,'no']\n",
    "\n",
    "ind=np.arange(proportion_yes.shape[0])\n",
    "\n",
    "yes_bar=plt.bar(ind,proportion_yes,width,color='g',alpha=0.7,label='yes')\n",
    "no_bar=plt.bar(ind+width,proportion_no,width,color='r',alpha=0.7,label='no')\n",
    "\n",
    "plt.ylabel('Proportion')\n",
    "plt.xlabel('Month')\n",
    "plt.title('Proportion of Yes and No by Month')\n",
    "locations = ind + width / 2  # x 坐标刻度位置\n",
    "labels = ['apr','aug', 'dec', 'jul','jun','mar','may','nov','oct','sep']  # x 坐标刻度标签\n",
    "plt.xticks(locations,labels,rotation=70)\n",
    "\n",
    "plt.legend(loc='upper left')"
   ]
  },
  {
   "cell_type": "markdown",
   "metadata": {},
   "source": [
    "图中dec、mar、oct、sep等月份客户购买贷款的比例较高，但考虑到这四个月份的数据量明显少于其它月份，因此需要更多数据才能得出可靠结论。"
   ]
  },
  {
   "cell_type": "markdown",
   "metadata": {},
   "source": [
    "**2.6 不同工作日购买银行定期存款的差异**"
   ]
  },
  {
   "cell_type": "code",
   "execution_count": 15,
   "metadata": {},
   "outputs": [],
   "source": [
    "df_dow=df.drop(df.query('day_of_week==\"unknown\"').index,axis=0)\n",
    "dow=df_dow.groupby(['day_of_week','y'])['age'].count()\n",
    "dow_total=df_dow.groupby('day_of_week')['age'].count()\n",
    "proportion=dow/dow_total"
   ]
  },
  {
   "cell_type": "code",
   "execution_count": 16,
   "metadata": {},
   "outputs": [
    {
     "data": {
      "text/plain": [
       "<matplotlib.legend.Legend at 0x1a85eafd358>"
      ]
     },
     "execution_count": 16,
     "metadata": {},
     "output_type": "execute_result"
    },
    {
     "data": {
      "image/png": "[encoded data removed]",
      "text/plain": [
       "<matplotlib.figure.Figure at 0x1a85cb373c8>"
      ]
     },
     "metadata": {},
     "output_type": "display_data"
    }
   ],
   "source": [
    "proportion_yes=proportion[:,'yes']\n",
    "proportion_no=proportion[:,'no']\n",
    "\n",
    "ind=np.arange(proportion_yes.shape[0])\n",
    "\n",
    "yes_bar=plt.bar(ind,proportion_yes,width,color='g',alpha=0.7,label='yes')\n",
    "no_bar=plt.bar(ind+width,proportion_no,width,color='r',alpha=0.7,label='no')\n",
    "\n",
    "plt.ylabel('Proportion')\n",
    "plt.xlabel('Day_of_Week')\n",
    "plt.title('Proportion of Yes and No by Day_of_Week')\n",
    "locations = ind + width / 2  # x 坐标刻度位置\n",
    "labels = ['fri','mon', 'thu', 'tue','wed']  # x 坐标刻度标签\n",
    "plt.xticks(locations,labels,rotation=70)\n",
    "\n",
    "plt.legend(loc='upper left')"
   ]
  },
  {
   "cell_type": "markdown",
   "metadata": {},
   "source": [
    "由此图可知，不同工作日与客户沟通，其购买定期贷款并无明显区别。"
   ]
  },
  {
   "cell_type": "markdown",
   "metadata": {},
   "source": [
    "**2.7 沟通持续时间与购买存款产品的关系**"
   ]
  },
  {
   "cell_type": "code",
   "execution_count": 17,
   "metadata": {},
   "outputs": [
    {
     "data": {
      "text/plain": [
       "dura_cut  y  \n",
       "short     no     0.991562\n",
       "          yes    0.008438\n",
       "medium    no     0.954073\n",
       "          yes    0.045927\n",
       "long      no     0.894468\n",
       "          yes    0.105532\n",
       "longer    no     0.708382\n",
       "          yes    0.291618\n",
       "Name: age, dtype: float64"
      ]
     },
     "execution_count": 17,
     "metadata": {},
     "output_type": "execute_result"
    }
   ],
   "source": [
    "df['duration'].describe()\n",
    "\n",
    "bin_d=[0,102,180,319,4918]\n",
    "bin_name=['short','medium','long','longer']\n",
    "df['dura_cut']=pd.cut(df['duration'],bin_d,labels=bin_name,include_lowest=True)\n",
    "\n",
    "duration=df.groupby(['dura_cut','y'])['age'].count()\n",
    "duration_total=df.groupby(['dura_cut'])['age'].count()\n",
    "proportion=duration/duration_total\n",
    "proportion"
   ]
  },
  {
   "cell_type": "code",
   "execution_count": 18,
   "metadata": {},
   "outputs": [
    {
     "data": {
      "text/plain": [
       "<matplotlib.legend.Legend at 0x1a85d2fe160>"
      ]
     },
     "execution_count": 18,
     "metadata": {},
     "output_type": "execute_result"
    },
    {
     "data": {
      "image/png": "[encoded data removed]",
      "text/plain": [
       "<matplotlib.figure.Figure at 0x1a85d3686a0>"
      ]
     },
     "metadata": {},
     "output_type": "display_data"
    }
   ],
   "source": [
    "proportion_yes=proportion[:,'yes']\n",
    "proportion_no=proportion[:,'no']\n",
    "\n",
    "ind=np.arange(proportion_yes.shape[0])\n",
    "\n",
    "yes_bar=plt.bar(ind,proportion_yes,width,color='g',alpha=0.7,label='yes')\n",
    "no_bar=plt.bar(ind+width,proportion_no,width,color='r',alpha=0.7,label='no')\n",
    "\n",
    "plt.ylabel('Proportion')\n",
    "plt.xlabel('Duration')\n",
    "plt.title('Proportion of Yes and No by Duratin')\n",
    "locations = ind + width / 2  # x 坐标刻度位置\n",
    "labels = ['short','medium','long','longer']  # x 坐标刻度标签\n",
    "plt.xticks(locations,labels,rotation=70)\n",
    "\n",
    "plt.legend(loc='upper left')"
   ]
  },
  {
   "cell_type": "markdown",
   "metadata": {},
   "source": [
    "有图可知，与客户沟通的持续时间与其是否购买存款产品具有较强联系，沟通持续时间越长，客户购买产品的比例越高。"
   ]
  },
  {
   "cell_type": "markdown",
   "metadata": {},
   "source": [
    "**小结：从上述分析可知，在不同月份、工作日与客户沟通，其购买额存款产品比例无明显差异。但与客户沟通的时间长短对购买比例有较大影响，沟通时间越长，购买产品的比例越高。**"
   ]
  },
  {
   "cell_type": "markdown",
   "metadata": {},
   "source": [
    "## 3.回归分析"
   ]
  },
  {
   "cell_type": "markdown",
   "metadata": {},
   "source": [
    "**3.1年龄对购买定期存款的影响**"
   ]
  },
  {
   "cell_type": "code",
   "execution_count": 19,
   "metadata": {},
   "outputs": [
    {
     "name": "stdout",
     "output_type": "stream",
     "text": [
      "Optimization terminated successfully.\n",
      "         Current function value: 468.233476\n",
      "         Iterations 6\n"
     ]
    },
    {
     "data": {
      "text/html": [
       "<table class=\"simpletable\">\n",
       "<caption>Logit Regression Results</caption>\n",
       "<tr>\n",
       "  <th>Dep. Variable:</th>         <td>Y</td>        <th>  No. Observations:  </th>   <td> 41176</td>   \n",
       "</tr>\n",
       "<tr>\n",
       "  <th>Model:</th>               <td>Logit</td>      <th>  Df Residuals:      </th>   <td> 41174</td>   \n",
       "</tr>\n",
       "<tr>\n",
       "  <th>Method:</th>               <td>MLE</td>       <th>  Df Model:          </th>   <td>     1</td>   \n",
       "</tr>\n",
       "<tr>\n",
       "  <th>Date:</th>          <td>Mon, 10 Feb 2020</td> <th>  Pseudo R-squ.:     </th>  <td>-0.002147</td> \n",
       "</tr>\n",
       "<tr>\n",
       "  <th>Time:</th>              <td>18:06:00</td>     <th>  Log-Likelihood:    </th> <td>-1.9280e+07</td>\n",
       "</tr>\n",
       "<tr>\n",
       "  <th>converged:</th>           <td>True</td>       <th>  LL-Null:           </th> <td>-1.9239e+07</td>\n",
       "</tr>\n",
       "<tr>\n",
       "  <th> </th>                      <td> </td>        <th>  LLR p-value:       </th>   <td> 1.000</td>   \n",
       "</tr>\n",
       "</table>\n",
       "<table class=\"simpletable\">\n",
       "<tr>\n",
       "      <td></td>         <th>coef</th>     <th>std err</th>      <th>z</th>      <th>P>|z|</th>  <th>[0.025</th>    <th>0.975]</th>  \n",
       "</tr>\n",
       "<tr>\n",
       "  <th>intercept</th> <td>   -2.4263</td> <td>    0.061</td> <td>  -39.508</td> <td> 0.000</td> <td>   -2.547</td> <td>   -2.306</td>\n",
       "</tr>\n",
       "<tr>\n",
       "  <th>age</th>       <td>    0.0090</td> <td>    0.001</td> <td>    6.160</td> <td> 0.000</td> <td>    0.006</td> <td>    0.012</td>\n",
       "</tr>\n",
       "</table>"
      ],
      "text/plain": [
       "<class 'statsmodels.iolib.summary.Summary'>\n",
       "\"\"\"\n",
       "                           Logit Regression Results                           \n",
       "==============================================================================\n",
       "Dep. Variable:                      Y   No. Observations:                41176\n",
       "Model:                          Logit   Df Residuals:                    41174\n",
       "Method:                           MLE   Df Model:                            1\n",
       "Date:                Mon, 10 Feb 2020   Pseudo R-squ.:               -0.002147\n",
       "Time:                        18:06:00   Log-Likelihood:            -1.9280e+07\n",
       "converged:                       True   LL-Null:                   -1.9239e+07\n",
       "                                        LLR p-value:                     1.000\n",
       "==============================================================================\n",
       "                 coef    std err          z      P>|z|      [0.025      0.975]\n",
       "------------------------------------------------------------------------------\n",
       "intercept     -2.4263      0.061    -39.508      0.000      -2.547      -2.306\n",
       "age            0.0090      0.001      6.160      0.000       0.006       0.012\n",
       "==============================================================================\n",
       "\"\"\""
      ]
     },
     "execution_count": 19,
     "metadata": {},
     "output_type": "execute_result"
    }
   ],
   "source": [
    "df['Y']=pd.get_dummies(df['y'])['yes']\n",
    "df['intercept']=1\n",
    "\n",
    "lm=sm.Logit(df['Y'],df[['intercept','age']])\n",
    "res=lm.fit()\n",
    "res.summary()"
   ]
  },
  {
   "cell_type": "code",
   "execution_count": 20,
   "metadata": {},
   "outputs": [
    {
     "data": {
      "text/plain": [
       "1.0090406217738679"
      ]
     },
     "execution_count": 20,
     "metadata": {},
     "output_type": "execute_result"
    }
   ],
   "source": [
    "np.exp(0.009)"
   ]
  },
  {
   "cell_type": "markdown",
   "metadata": {},
   "source": [
    "由此可知，在其它条件不变时，年龄每增加一个单位，购买存款产品的可能性增加约1倍。"
   ]
  },
  {
   "cell_type": "markdown",
   "metadata": {},
   "source": [
    "**3.2 职业对购买定期存款的影响**"
   ]
  },
  {
   "cell_type": "code",
   "execution_count": 21,
   "metadata": {},
   "outputs": [
    {
     "name": "stdout",
     "output_type": "stream",
     "text": [
      "Optimization terminated successfully.\n",
      "         Current function value: 486.988291\n",
      "         Iterations 7\n"
     ]
    },
    {
     "data": {
      "text/html": [
       "<table class=\"simpletable\">\n",
       "<caption>Logit Regression Results</caption>\n",
       "<tr>\n",
       "  <th>Dep. Variable:</th>         <td>Y</td>        <th>  No. Observations:  </th>   <td> 40846</td>   \n",
       "</tr>\n",
       "<tr>\n",
       "  <th>Model:</th>               <td>Logit</td>      <th>  Df Residuals:      </th>   <td> 40835</td>   \n",
       "</tr>\n",
       "<tr>\n",
       "  <th>Method:</th>               <td>MLE</td>       <th>  Df Model:          </th>   <td>    10</td>   \n",
       "</tr>\n",
       "<tr>\n",
       "  <th>Date:</th>          <td>Mon, 10 Feb 2020</td> <th>  Pseudo R-squ.:     </th>  <td>-0.04232</td>  \n",
       "</tr>\n",
       "<tr>\n",
       "  <th>Time:</th>              <td>18:06:01</td>     <th>  Log-Likelihood:    </th> <td>-1.9892e+07</td>\n",
       "</tr>\n",
       "<tr>\n",
       "  <th>converged:</th>           <td>True</td>       <th>  LL-Null:           </th> <td>-1.9084e+07</td>\n",
       "</tr>\n",
       "<tr>\n",
       "  <th> </th>                      <td> </td>        <th>  LLR p-value:       </th>   <td> 1.000</td>   \n",
       "</tr>\n",
       "</table>\n",
       "<table class=\"simpletable\">\n",
       "<tr>\n",
       "        <td></td>           <th>coef</th>     <th>std err</th>      <th>z</th>      <th>P>|z|</th>  <th>[0.025</th>    <th>0.975]</th>  \n",
       "</tr>\n",
       "<tr>\n",
       "  <th>intercept</th>     <td>   -1.7987</td> <td>    0.090</td> <td>  -19.993</td> <td> 0.000</td> <td>   -1.975</td> <td>   -1.622</td>\n",
       "</tr>\n",
       "<tr>\n",
       "  <th>admin.</th>        <td>   -0.1052</td> <td>    0.095</td> <td>   -1.113</td> <td> 0.266</td> <td>   -0.291</td> <td>    0.080</td>\n",
       "</tr>\n",
       "<tr>\n",
       "  <th>blue-collar</th>   <td>   -0.8042</td> <td>    0.099</td> <td>   -8.133</td> <td> 0.000</td> <td>   -0.998</td> <td>   -0.610</td>\n",
       "</tr>\n",
       "<tr>\n",
       "  <th>entrepreneur</th>  <td>   -0.5755</td> <td>    0.130</td> <td>   -4.426</td> <td> 0.000</td> <td>   -0.830</td> <td>   -0.321</td>\n",
       "</tr>\n",
       "<tr>\n",
       "  <th>housemaid</th>     <td>   -0.3985</td> <td>    0.136</td> <td>   -2.924</td> <td> 0.003</td> <td>   -0.666</td> <td>   -0.131</td>\n",
       "</tr>\n",
       "<tr>\n",
       "  <th>management</th>    <td>   -0.2700</td> <td>    0.107</td> <td>   -2.515</td> <td> 0.012</td> <td>   -0.480</td> <td>   -0.060</td>\n",
       "</tr>\n",
       "<tr>\n",
       "  <th>retired</th>       <td>    0.7140</td> <td>    0.106</td> <td>    6.754</td> <td> 0.000</td> <td>    0.507</td> <td>    0.921</td>\n",
       "</tr>\n",
       "<tr>\n",
       "  <th>self-employed</th> <td>   -0.3457</td> <td>    0.125</td> <td>   -2.769</td> <td> 0.006</td> <td>   -0.590</td> <td>   -0.101</td>\n",
       "</tr>\n",
       "<tr>\n",
       "  <th>services</th>      <td>   -0.6245</td> <td>    0.107</td> <td>   -5.833</td> <td> 0.000</td> <td>   -0.834</td> <td>   -0.415</td>\n",
       "</tr>\n",
       "<tr>\n",
       "  <th>student</th>       <td>    1.0185</td> <td>    0.116</td> <td>    8.800</td> <td> 0.000</td> <td>    0.792</td> <td>    1.245</td>\n",
       "</tr>\n",
       "<tr>\n",
       "  <th>technician</th>    <td>   -0.3093</td> <td>    0.098</td> <td>   -3.152</td> <td> 0.002</td> <td>   -0.502</td> <td>   -0.117</td>\n",
       "</tr>\n",
       "</table>"
      ],
      "text/plain": [
       "<class 'statsmodels.iolib.summary.Summary'>\n",
       "\"\"\"\n",
       "                           Logit Regression Results                           \n",
       "==============================================================================\n",
       "Dep. Variable:                      Y   No. Observations:                40846\n",
       "Model:                          Logit   Df Residuals:                    40835\n",
       "Method:                           MLE   Df Model:                           10\n",
       "Date:                Mon, 10 Feb 2020   Pseudo R-squ.:                -0.04232\n",
       "Time:                        18:06:01   Log-Likelihood:            -1.9892e+07\n",
       "converged:                       True   LL-Null:                   -1.9084e+07\n",
       "                                        LLR p-value:                     1.000\n",
       "=================================================================================\n",
       "                    coef    std err          z      P>|z|      [0.025      0.975]\n",
       "---------------------------------------------------------------------------------\n",
       "intercept        -1.7987      0.090    -19.993      0.000      -1.975      -1.622\n",
       "admin.           -0.1052      0.095     -1.113      0.266      -0.291       0.080\n",
       "blue-collar      -0.8042      0.099     -8.133      0.000      -0.998      -0.610\n",
       "entrepreneur     -0.5755      0.130     -4.426      0.000      -0.830      -0.321\n",
       "housemaid        -0.3985      0.136     -2.924      0.003      -0.666      -0.131\n",
       "management       -0.2700      0.107     -2.515      0.012      -0.480      -0.060\n",
       "retired           0.7140      0.106      6.754      0.000       0.507       0.921\n",
       "self-employed    -0.3457      0.125     -2.769      0.006      -0.590      -0.101\n",
       "services         -0.6245      0.107     -5.833      0.000      -0.834      -0.415\n",
       "student           1.0185      0.116      8.800      0.000       0.792       1.245\n",
       "technician       -0.3093      0.098     -3.152      0.002      -0.502      -0.117\n",
       "=================================================================================\n",
       "\"\"\""
      ]
     },
     "execution_count": 21,
     "metadata": {},
     "output_type": "execute_result"
    }
   ],
   "source": [
    "df_job['Y']=pd.get_dummies(df_job['y'])['yes']\n",
    "df_dum=pd.get_dummies(df_job['job'])\n",
    "df_job[['admin.','blue-collar','entrepreneur','housemaid','management','retired','self-employed','services','student','technician']]=df_dum[['admin.','blue-collar','entrepreneur','housemaid','management','retired','self-employed','services','student','technician']]\n",
    "df_job['intercept']=1\n",
    "\n",
    "#以unemployed为基准，将其它变量添加到回归模型中\n",
    "lm=sm.Logit(df_job['Y'],df_job[['intercept','admin.','blue-collar','entrepreneur','housemaid','management','retired','self-employed','services','student','technician']])\n",
    "res=lm.fit()\n",
    "res.summary()"
   ]
  },
  {
   "cell_type": "code",
   "execution_count": 22,
   "metadata": {},
   "outputs": [
    {
     "data": {
      "text/plain": [
       "(2.2349078571729839,\n",
       " 1.7780193143558396,\n",
       " 1.4895886380587564,\n",
       " 1.3099644507332475,\n",
       " 2.0421435173290265,\n",
       " 1.4129786586296897,\n",
       " 1.8673120679453343,\n",
       " 2.7690380901031237,\n",
       " 1.3624710505135096)"
      ]
     },
     "execution_count": 22,
     "metadata": {},
     "output_type": "execute_result"
    }
   ],
   "source": [
    "1/np.exp(-0.8042),1/np.exp(-0.5755),1/np.exp(-0.3985),1/np.exp(-0.2700),np.exp(0.7140),1/np.exp(-0.3457),1/np.exp(-0.6245),np.exp(1.0185),1/np.exp(-0.3093)"
   ]
  },
  {
   "cell_type": "markdown",
   "metadata": {},
   "source": [
    "从P值可以看出，自变量admin与是否购买定期存款间不具有统计相关性。其它具有统计相关性的职业中，在其它条件不变时，retired和student相比unemployed购买存款产品的可能性分别高2.0倍和2.8倍，这与前述结论相符。而unemployed则比其他人群更有可能购买存款产品。"
   ]
  },
  {
   "cell_type": "markdown",
   "metadata": {
    "collapsed": true
   },
   "source": [
    "**3.3 婚姻状况对购买定期存款的影响**"
   ]
  },
  {
   "cell_type": "code",
   "execution_count": 23,
   "metadata": {},
   "outputs": [
    {
     "name": "stdout",
     "output_type": "stream",
     "text": [
      "Optimization terminated successfully.\n",
      "         Current function value: 470.539952\n",
      "         Iterations 6\n"
     ]
    },
    {
     "data": {
      "text/html": [
       "<table class=\"simpletable\">\n",
       "<caption>Logit Regression Results</caption>\n",
       "<tr>\n",
       "  <th>Dep. Variable:</th>         <td>Y</td>        <th>  No. Observations:  </th>   <td> 41096</td>   \n",
       "</tr>\n",
       "<tr>\n",
       "  <th>Model:</th>               <td>Logit</td>      <th>  Df Residuals:      </th>   <td> 41093</td>   \n",
       "</tr>\n",
       "<tr>\n",
       "  <th>Method:</th>               <td>MLE</td>       <th>  Df Model:          </th>   <td>     2</td>   \n",
       "</tr>\n",
       "<tr>\n",
       "  <th>Date:</th>          <td>Mon, 10 Feb 2020</td> <th>  Pseudo R-squ.:     </th>  <td>-0.006647</td> \n",
       "</tr>\n",
       "<tr>\n",
       "  <th>Time:</th>              <td>18:06:01</td>     <th>  Log-Likelihood:    </th> <td>-1.9337e+07</td>\n",
       "</tr>\n",
       "<tr>\n",
       "  <th>converged:</th>           <td>True</td>       <th>  LL-Null:           </th> <td>-1.9210e+07</td>\n",
       "</tr>\n",
       "<tr>\n",
       "  <th> </th>                      <td> </td>        <th>  LLR p-value:       </th>   <td> 1.000</td>   \n",
       "</tr>\n",
       "</table>\n",
       "<table class=\"simpletable\">\n",
       "<tr>\n",
       "      <td></td>         <th>coef</th>     <th>std err</th>      <th>z</th>      <th>P>|z|</th>  <th>[0.025</th>    <th>0.975]</th>  \n",
       "</tr>\n",
       "<tr>\n",
       "  <th>intercept</th> <td>   -1.8145</td> <td>    0.027</td> <td>  -67.725</td> <td> 0.000</td> <td>   -1.867</td> <td>   -1.762</td>\n",
       "</tr>\n",
       "<tr>\n",
       "  <th>married</th>   <td>   -0.3655</td> <td>    0.034</td> <td>  -10.741</td> <td> 0.000</td> <td>   -0.432</td> <td>   -0.299</td>\n",
       "</tr>\n",
       "<tr>\n",
       "  <th>divorced</th>  <td>   -0.3473</td> <td>    0.055</td> <td>   -6.277</td> <td> 0.000</td> <td>   -0.456</td> <td>   -0.239</td>\n",
       "</tr>\n",
       "</table>"
      ],
      "text/plain": [
       "<class 'statsmodels.iolib.summary.Summary'>\n",
       "\"\"\"\n",
       "                           Logit Regression Results                           \n",
       "==============================================================================\n",
       "Dep. Variable:                      Y   No. Observations:                41096\n",
       "Model:                          Logit   Df Residuals:                    41093\n",
       "Method:                           MLE   Df Model:                            2\n",
       "Date:                Mon, 10 Feb 2020   Pseudo R-squ.:               -0.006647\n",
       "Time:                        18:06:01   Log-Likelihood:            -1.9337e+07\n",
       "converged:                       True   LL-Null:                   -1.9210e+07\n",
       "                                        LLR p-value:                     1.000\n",
       "==============================================================================\n",
       "                 coef    std err          z      P>|z|      [0.025      0.975]\n",
       "------------------------------------------------------------------------------\n",
       "intercept     -1.8145      0.027    -67.725      0.000      -1.867      -1.762\n",
       "married       -0.3655      0.034    -10.741      0.000      -0.432      -0.299\n",
       "divorced      -0.3473      0.055     -6.277      0.000      -0.456      -0.239\n",
       "==============================================================================\n",
       "\"\"\""
      ]
     },
     "execution_count": 23,
     "metadata": {},
     "output_type": "execute_result"
    }
   ],
   "source": [
    "df_marital=df.drop(df.query('marital==\"unknown\"').index)\n",
    "df_dum=pd.get_dummies(df_marital['marital'])\n",
    "df_marital[['married','divorced']]=df_dum[['married','divorced']]\n",
    "\n",
    "#以single为基准，将married、divorced添加到回归模型中\n",
    "lm=sm.Logit(df_marital['Y'],df_marital[['intercept','married','divorced']])\n",
    "res=lm.fit()\n",
    "res.summary()"
   ]
  },
  {
   "cell_type": "code",
   "execution_count": 24,
   "metadata": {},
   "outputs": [
    {
     "data": {
      "text/plain": [
       "(1.441234445247557, 1.4152412340611595)"
      ]
     },
     "execution_count": 24,
     "metadata": {},
     "output_type": "execute_result"
    }
   ],
   "source": [
    "1/np.exp(-0.3655),1/np.exp(-0.3473)"
   ]
  },
  {
   "cell_type": "markdown",
   "metadata": {},
   "source": [
    "由上述结果可知，married、divorced与是否购买存款产品均具有统计相关性。以single为基准，在其它条件不变时，其购买存款产品的可能性比married、divorced均高1.4倍，即单身人群更有可能购买存款产品，已婚和离异差别不大。"
   ]
  },
  {
   "cell_type": "markdown",
   "metadata": {},
   "source": [
    "**3.4 受教育程度对购买定期存款的影响**"
   ]
  },
  {
   "cell_type": "code",
   "execution_count": 25,
   "metadata": {},
   "outputs": [
    {
     "data": {
      "text/plain": [
       "array(['basic.4y', 'high.school', 'basic.6y', 'basic.9y',\n",
       "       'professional.course', 'unknown', 'university.degree', 'illiterate'], dtype=object)"
      ]
     },
     "execution_count": 25,
     "metadata": {},
     "output_type": "execute_result"
    }
   ],
   "source": [
    "df['education'].unique()"
   ]
  },
  {
   "cell_type": "code",
   "execution_count": 26,
   "metadata": {},
   "outputs": [
    {
     "name": "stdout",
     "output_type": "stream",
     "text": [
      "Optimization terminated successfully.\n",
      "         Current function value: 476.583883\n",
      "         Iterations 6\n"
     ]
    },
    {
     "data": {
      "text/html": [
       "<table class=\"simpletable\">\n",
       "<caption>Logit Regression Results</caption>\n",
       "<tr>\n",
       "  <th>Dep. Variable:</th>         <td>Y</td>        <th>  No. Observations:  </th>   <td> 39446</td>   \n",
       "</tr>\n",
       "<tr>\n",
       "  <th>Model:</th>               <td>Logit</td>      <th>  Df Residuals:      </th>   <td> 39439</td>   \n",
       "</tr>\n",
       "<tr>\n",
       "  <th>Method:</th>               <td>MLE</td>       <th>  Df Model:          </th>   <td>     6</td>   \n",
       "</tr>\n",
       "<tr>\n",
       "  <th>Date:</th>          <td>Mon, 10 Feb 2020</td> <th>  Pseudo R-squ.:     </th>  <td>-0.01139</td>  \n",
       "</tr>\n",
       "<tr>\n",
       "  <th>Time:</th>              <td>18:06:01</td>     <th>  Log-Likelihood:    </th> <td>-1.8799e+07</td>\n",
       "</tr>\n",
       "<tr>\n",
       "  <th>converged:</th>           <td>True</td>       <th>  LL-Null:           </th> <td>-1.8588e+07</td>\n",
       "</tr>\n",
       "<tr>\n",
       "  <th> </th>                      <td> </td>        <th>  LLR p-value:       </th>   <td> 1.000</td>   \n",
       "</tr>\n",
       "</table>\n",
       "<table class=\"simpletable\">\n",
       "<tr>\n",
       "           <td></td>              <th>coef</th>     <th>std err</th>      <th>z</th>      <th>P>|z|</th>  <th>[0.025</th>    <th>0.975]</th>  \n",
       "</tr>\n",
       "<tr>\n",
       "  <th>intercept</th>           <td>   -1.2528</td> <td>    0.567</td> <td>   -2.210</td> <td> 0.027</td> <td>   -2.364</td> <td>   -0.142</td>\n",
       "</tr>\n",
       "<tr>\n",
       "  <th>basic.4y</th>            <td>   -0.9171</td> <td>    0.569</td> <td>   -1.611</td> <td> 0.107</td> <td>   -2.033</td> <td>    0.199</td>\n",
       "</tr>\n",
       "<tr>\n",
       "  <th>high.school</th>         <td>   -0.8545</td> <td>    0.568</td> <td>   -1.505</td> <td> 0.132</td> <td>   -1.968</td> <td>    0.259</td>\n",
       "</tr>\n",
       "<tr>\n",
       "  <th>basic.6y</th>            <td>   -1.1619</td> <td>    0.572</td> <td>   -2.031</td> <td> 0.042</td> <td>   -2.283</td> <td>   -0.041</td>\n",
       "</tr>\n",
       "<tr>\n",
       "  <th>basic.9y</th>            <td>   -1.2137</td> <td>    0.569</td> <td>   -2.133</td> <td> 0.033</td> <td>   -2.329</td> <td>   -0.098</td>\n",
       "</tr>\n",
       "<tr>\n",
       "  <th>professional.course</th> <td>   -0.8022</td> <td>    0.569</td> <td>   -1.411</td> <td> 0.158</td> <td>   -1.917</td> <td>    0.312</td>\n",
       "</tr>\n",
       "<tr>\n",
       "  <th>university.degree</th>   <td>   -0.5859</td> <td>    0.568</td> <td>   -1.032</td> <td> 0.302</td> <td>   -1.698</td> <td>    0.526</td>\n",
       "</tr>\n",
       "</table>"
      ],
      "text/plain": [
       "<class 'statsmodels.iolib.summary.Summary'>\n",
       "\"\"\"\n",
       "                           Logit Regression Results                           \n",
       "==============================================================================\n",
       "Dep. Variable:                      Y   No. Observations:                39446\n",
       "Model:                          Logit   Df Residuals:                    39439\n",
       "Method:                           MLE   Df Model:                            6\n",
       "Date:                Mon, 10 Feb 2020   Pseudo R-squ.:                -0.01139\n",
       "Time:                        18:06:01   Log-Likelihood:            -1.8799e+07\n",
       "converged:                       True   LL-Null:                   -1.8588e+07\n",
       "                                        LLR p-value:                     1.000\n",
       "=======================================================================================\n",
       "                          coef    std err          z      P>|z|      [0.025      0.975]\n",
       "---------------------------------------------------------------------------------------\n",
       "intercept              -1.2528      0.567     -2.210      0.027      -2.364      -0.142\n",
       "basic.4y               -0.9171      0.569     -1.611      0.107      -2.033       0.199\n",
       "high.school            -0.8545      0.568     -1.505      0.132      -1.968       0.259\n",
       "basic.6y               -1.1619      0.572     -2.031      0.042      -2.283      -0.041\n",
       "basic.9y               -1.2137      0.569     -2.133      0.033      -2.329      -0.098\n",
       "professional.course    -0.8022      0.569     -1.411      0.158      -1.917       0.312\n",
       "university.degree      -0.5859      0.568     -1.032      0.302      -1.698       0.526\n",
       "=======================================================================================\n",
       "\"\"\""
      ]
     },
     "execution_count": 26,
     "metadata": {},
     "output_type": "execute_result"
    }
   ],
   "source": [
    "df_education=df.drop(df.query('education==\"unknown\"').index)\n",
    "df_dum=pd.get_dummies(df_education['education'])\n",
    "df_education[['basic.4y','high.school', 'basic.6y', 'basic.9y','professional.course', 'university.degree']]=df_dum[['basic.4y','high.school', 'basic.6y', 'basic.9y','professional.course', 'university.degree']]\n",
    "\n",
    "#以illiterate为基准，将其它变量添加到回归模型中\n",
    "lm=sm.Logit(df_education['Y'],df_education[['intercept','basic.4y','high.school', 'basic.6y', 'basic.9y','professional.course', 'university.degree']])\n",
    "res=lm.fit()\n",
    "res.summary()"
   ]
  },
  {
   "cell_type": "code",
   "execution_count": 27,
   "metadata": {},
   "outputs": [
    {
     "data": {
      "text/plain": [
       "(3.1959999108187271, 3.3659155287027849)"
      ]
     },
     "execution_count": 27,
     "metadata": {},
     "output_type": "execute_result"
    }
   ],
   "source": [
    "1/np.exp(-1.1619),1/np.exp(-1.2137)"
   ]
  },
  {
   "cell_type": "markdown",
   "metadata": {},
   "source": [
    "由逻辑回归结果可知，除去P值大于0.05的变量，在其它条件不变的情况下，不识字人群比basic.6y和basic.9y购买存款产品的可能性高3.2倍和3.4倍。这与前述“不识字人群购买存款产品的比例最高”相符。"
   ]
  },
  {
   "cell_type": "markdown",
   "metadata": {
    "collapsed": true
   },
   "source": [
    "**3.5 不同月份对购买银行定期存款的影响**"
   ]
  },
  {
   "cell_type": "code",
   "execution_count": 28,
   "metadata": {},
   "outputs": [
    {
     "name": "stdout",
     "output_type": "stream",
     "text": [
      "Optimization terminated successfully.\n",
      "         Current function value: 511.360933\n",
      "         Iterations 7\n"
     ]
    },
    {
     "data": {
      "text/html": [
       "<table class=\"simpletable\">\n",
       "<caption>Logit Regression Results</caption>\n",
       "<tr>\n",
       "  <th>Dep. Variable:</th>         <td>Y</td>        <th>  No. Observations:  </th>   <td> 41176</td>   \n",
       "</tr>\n",
       "<tr>\n",
       "  <th>Model:</th>               <td>Logit</td>      <th>  Df Residuals:      </th>   <td> 41166</td>   \n",
       "</tr>\n",
       "<tr>\n",
       "  <th>Method:</th>               <td>MLE</td>       <th>  Df Model:          </th>   <td>     9</td>   \n",
       "</tr>\n",
       "<tr>\n",
       "  <th>Date:</th>          <td>Mon, 10 Feb 2020</td> <th>  Pseudo R-squ.:     </th>  <td>-0.09445</td>  \n",
       "</tr>\n",
       "<tr>\n",
       "  <th>Time:</th>              <td>18:06:01</td>     <th>  Log-Likelihood:    </th> <td>-2.1056e+07</td>\n",
       "</tr>\n",
       "<tr>\n",
       "  <th>converged:</th>           <td>True</td>       <th>  LL-Null:           </th> <td>-1.9239e+07</td>\n",
       "</tr>\n",
       "<tr>\n",
       "  <th> </th>                      <td> </td>        <th>  LLR p-value:       </th>   <td> 1.000</td>   \n",
       "</tr>\n",
       "</table>\n",
       "<table class=\"simpletable\">\n",
       "<tr>\n",
       "      <td></td>         <th>coef</th>     <th>std err</th>      <th>z</th>      <th>P>|z|</th>  <th>[0.025</th>    <th>0.975]</th>  \n",
       "</tr>\n",
       "<tr>\n",
       "  <th>intercept</th> <td>    0.0220</td> <td>    0.086</td> <td>    0.257</td> <td> 0.797</td> <td>   -0.146</td> <td>    0.190</td>\n",
       "</tr>\n",
       "<tr>\n",
       "  <th>apr</th>       <td>   -1.3781</td> <td>    0.098</td> <td>  -14.022</td> <td> 0.000</td> <td>   -1.571</td> <td>   -1.186</td>\n",
       "</tr>\n",
       "<tr>\n",
       "  <th>aug</th>       <td>   -2.1537</td> <td>    0.095</td> <td>  -22.658</td> <td> 0.000</td> <td>   -2.340</td> <td>   -1.967</td>\n",
       "</tr>\n",
       "<tr>\n",
       "  <th>dec</th>       <td>   -0.0659</td> <td>    0.171</td> <td>   -0.385</td> <td> 0.700</td> <td>   -0.402</td> <td>    0.270</td>\n",
       "</tr>\n",
       "<tr>\n",
       "  <th>jul</th>       <td>   -2.3309</td> <td>    0.095</td> <td>  -24.538</td> <td> 0.000</td> <td>   -2.517</td> <td>   -2.145</td>\n",
       "</tr>\n",
       "<tr>\n",
       "  <th>jun</th>       <td>   -2.1636</td> <td>    0.097</td> <td>  -22.405</td> <td> 0.000</td> <td>   -2.353</td> <td>   -1.974</td>\n",
       "</tr>\n",
       "<tr>\n",
       "  <th>may</th>       <td>   -2.6988</td> <td>    0.092</td> <td>  -29.215</td> <td> 0.000</td> <td>   -2.880</td> <td>   -2.518</td>\n",
       "</tr>\n",
       "<tr>\n",
       "  <th>nov</th>       <td>   -2.2030</td> <td>    0.100</td> <td>  -22.028</td> <td> 0.000</td> <td>   -2.399</td> <td>   -2.007</td>\n",
       "</tr>\n",
       "<tr>\n",
       "  <th>oct</th>       <td>   -0.2659</td> <td>    0.114</td> <td>   -2.333</td> <td> 0.020</td> <td>   -0.489</td> <td>   -0.042</td>\n",
       "</tr>\n",
       "<tr>\n",
       "  <th>sep</th>       <td>   -0.2262</td> <td>    0.120</td> <td>   -1.884</td> <td> 0.060</td> <td>   -0.462</td> <td>    0.009</td>\n",
       "</tr>\n",
       "</table>"
      ],
      "text/plain": [
       "<class 'statsmodels.iolib.summary.Summary'>\n",
       "\"\"\"\n",
       "                           Logit Regression Results                           \n",
       "==============================================================================\n",
       "Dep. Variable:                      Y   No. Observations:                41176\n",
       "Model:                          Logit   Df Residuals:                    41166\n",
       "Method:                           MLE   Df Model:                            9\n",
       "Date:                Mon, 10 Feb 2020   Pseudo R-squ.:                -0.09445\n",
       "Time:                        18:06:01   Log-Likelihood:            -2.1056e+07\n",
       "converged:                       True   LL-Null:                   -1.9239e+07\n",
       "                                        LLR p-value:                     1.000\n",
       "==============================================================================\n",
       "                 coef    std err          z      P>|z|      [0.025      0.975]\n",
       "------------------------------------------------------------------------------\n",
       "intercept      0.0220      0.086      0.257      0.797      -0.146       0.190\n",
       "apr           -1.3781      0.098    -14.022      0.000      -1.571      -1.186\n",
       "aug           -2.1537      0.095    -22.658      0.000      -2.340      -1.967\n",
       "dec           -0.0659      0.171     -0.385      0.700      -0.402       0.270\n",
       "jul           -2.3309      0.095    -24.538      0.000      -2.517      -2.145\n",
       "jun           -2.1636      0.097    -22.405      0.000      -2.353      -1.974\n",
       "may           -2.6988      0.092    -29.215      0.000      -2.880      -2.518\n",
       "nov           -2.2030      0.100    -22.028      0.000      -2.399      -2.007\n",
       "oct           -0.2659      0.114     -2.333      0.020      -0.489      -0.042\n",
       "sep           -0.2262      0.120     -1.884      0.060      -0.462       0.009\n",
       "==============================================================================\n",
       "\"\"\""
      ]
     },
     "execution_count": 28,
     "metadata": {},
     "output_type": "execute_result"
    }
   ],
   "source": [
    "df_month=df.drop(df.query('month==\"unknown\"').index)\n",
    "df_dum=pd.get_dummies(df_month['month'])\n",
    "df_month[['apr','aug', 'dec', 'jul','jun','may','nov','oct','sep']]=df_dum[['apr','aug', 'dec', 'jul','jun','may','nov','oct','sep']]\n",
    "\n",
    "#以mar基准，将其它变量添加到回归模型中\n",
    "lm=sm.Logit(df_month['Y'],df_month[['intercept','apr','aug', 'dec', 'jul','jun','may','nov','oct','sep']])\n",
    "res=lm.fit()\n",
    "res.summary()"
   ]
  },
  {
   "cell_type": "code",
   "execution_count": 29,
   "metadata": {},
   "outputs": [
    {
     "data": {
      "text/plain": [
       "(3.9673564845581284,\n",
       " 8.6166812091450762,\n",
       " 10.28719584423856,\n",
       " 8.7024100104934465,\n",
       " 14.861886755925749,\n",
       " 9.0521291931362082,\n",
       " 1.304604591704517)"
      ]
     },
     "execution_count": 29,
     "metadata": {},
     "output_type": "execute_result"
    }
   ],
   "source": [
    "1/np.exp(-1.3781),1/np.exp(-2.1537),1/np.exp(-2.3309),1/np.exp(-2.1636),1/np.exp(-2.6988),1/np.exp(-2.2030),1/np.exp(-0.2659)"
   ]
  },
  {
   "cell_type": "markdown",
   "metadata": {},
   "source": [
    "由此可知，以mar（三月）为基准，在mar（三月）客户购买存款产品的可能性比oct（十月）高1.3倍，比jul（七月）、may（五月）分别高10.3倍、14.9倍。"
   ]
  },
  {
   "cell_type": "markdown",
   "metadata": {},
   "source": [
    "**3.6 不同工作日对购买银行定期存款的影响**"
   ]
  },
  {
   "cell_type": "code",
   "execution_count": 30,
   "metadata": {},
   "outputs": [
    {
     "name": "stdout",
     "output_type": "stream",
     "text": [
      "Optimization terminated successfully.\n",
      "         Current function value: 467.969378\n",
      "         Iterations 6\n"
     ]
    },
    {
     "data": {
      "text/html": [
       "<table class=\"simpletable\">\n",
       "<caption>Logit Regression Results</caption>\n",
       "<tr>\n",
       "  <th>Dep. Variable:</th>         <td>Y</td>        <th>  No. Observations:  </th>   <td> 41176</td>   \n",
       "</tr>\n",
       "<tr>\n",
       "  <th>Model:</th>               <td>Logit</td>      <th>  Df Residuals:      </th>   <td> 41171</td>   \n",
       "</tr>\n",
       "<tr>\n",
       "  <th>Method:</th>               <td>MLE</td>       <th>  Df Model:          </th>   <td>     4</td>   \n",
       "</tr>\n",
       "<tr>\n",
       "  <th>Date:</th>          <td>Mon, 10 Feb 2020</td> <th>  Pseudo R-squ.:     </th>  <td>-0.001582</td> \n",
       "</tr>\n",
       "<tr>\n",
       "  <th>Time:</th>              <td>18:06:02</td>     <th>  Log-Likelihood:    </th> <td>-1.9269e+07</td>\n",
       "</tr>\n",
       "<tr>\n",
       "  <th>converged:</th>           <td>True</td>       <th>  LL-Null:           </th> <td>-1.9239e+07</td>\n",
       "</tr>\n",
       "<tr>\n",
       "  <th> </th>                      <td> </td>        <th>  LLR p-value:       </th>   <td> 1.000</td>   \n",
       "</tr>\n",
       "</table>\n",
       "<table class=\"simpletable\">\n",
       "<tr>\n",
       "      <td></td>         <th>coef</th>     <th>std err</th>      <th>z</th>      <th>P>|z|</th>  <th>[0.025</th>    <th>0.975]</th>  \n",
       "</tr>\n",
       "<tr>\n",
       "  <th>intercept</th> <td>   -2.2027</td> <td>    0.036</td> <td>  -60.833</td> <td> 0.000</td> <td>   -2.274</td> <td>   -2.132</td>\n",
       "</tr>\n",
       "<tr>\n",
       "  <th>fri</th>       <td>    0.0924</td> <td>    0.051</td> <td>    1.800</td> <td> 0.072</td> <td>   -0.008</td> <td>    0.193</td>\n",
       "</tr>\n",
       "<tr>\n",
       "  <th>thu</th>       <td>    0.2211</td> <td>    0.049</td> <td>    4.511</td> <td> 0.000</td> <td>    0.125</td> <td>    0.317</td>\n",
       "</tr>\n",
       "<tr>\n",
       "  <th>tue</th>       <td>    0.1898</td> <td>    0.050</td> <td>    3.796</td> <td> 0.000</td> <td>    0.092</td> <td>    0.288</td>\n",
       "</tr>\n",
       "<tr>\n",
       "  <th>wed</th>       <td>    0.1784</td> <td>    0.050</td> <td>    3.565</td> <td> 0.000</td> <td>    0.080</td> <td>    0.276</td>\n",
       "</tr>\n",
       "</table>"
      ],
      "text/plain": [
       "<class 'statsmodels.iolib.summary.Summary'>\n",
       "\"\"\"\n",
       "                           Logit Regression Results                           \n",
       "==============================================================================\n",
       "Dep. Variable:                      Y   No. Observations:                41176\n",
       "Model:                          Logit   Df Residuals:                    41171\n",
       "Method:                           MLE   Df Model:                            4\n",
       "Date:                Mon, 10 Feb 2020   Pseudo R-squ.:               -0.001582\n",
       "Time:                        18:06:02   Log-Likelihood:            -1.9269e+07\n",
       "converged:                       True   LL-Null:                   -1.9239e+07\n",
       "                                        LLR p-value:                     1.000\n",
       "==============================================================================\n",
       "                 coef    std err          z      P>|z|      [0.025      0.975]\n",
       "------------------------------------------------------------------------------\n",
       "intercept     -2.2027      0.036    -60.833      0.000      -2.274      -2.132\n",
       "fri            0.0924      0.051      1.800      0.072      -0.008       0.193\n",
       "thu            0.2211      0.049      4.511      0.000       0.125       0.317\n",
       "tue            0.1898      0.050      3.796      0.000       0.092       0.288\n",
       "wed            0.1784      0.050      3.565      0.000       0.080       0.276\n",
       "==============================================================================\n",
       "\"\"\""
      ]
     },
     "execution_count": 30,
     "metadata": {},
     "output_type": "execute_result"
    }
   ],
   "source": [
    "df_dow=df.drop(df.query('day_of_week==\"unknown\"').index)\n",
    "df_dum=pd.get_dummies(df_dow['day_of_week'])\n",
    "df_dow[['fri','thu', 'tue','wed']]=df_dum[['fri','thu', 'tue','wed']]\n",
    "\n",
    "#以mon为基准，将其它变量加到回归模型中\n",
    "lm=sm.Logit(df_dow['Y'],df_dow[['intercept','fri','thu', 'tue','wed']])\n",
    "res=lm.fit()\n",
    "res.summary()"
   ]
  },
  {
   "cell_type": "code",
   "execution_count": 31,
   "metadata": {},
   "outputs": [
    {
     "data": {
      "text/plain": [
       "(1.2474481691439463, 1.2090077719210996, 1.1953033469620664)"
      ]
     },
     "execution_count": 31,
     "metadata": {},
     "output_type": "execute_result"
    }
   ],
   "source": [
    "np.exp(0.2211),np.exp(0.1898),np.exp(0.1784)"
   ]
  },
  {
   "cell_type": "markdown",
   "metadata": {},
   "source": [
    "由此可知，除去P值大于0.005的变量，与mon（星期一）相比，其它工作日客户购买存款作品的可能性略微增加。"
   ]
  },
  {
   "cell_type": "markdown",
   "metadata": {},
   "source": [
    "**3.7 沟通时长对购买银行定期存款的影响**"
   ]
  },
  {
   "cell_type": "code",
   "execution_count": 32,
   "metadata": {},
   "outputs": [
    {
     "name": "stdout",
     "output_type": "stream",
     "text": [
      "Optimization terminated successfully.\n",
      "         Current function value: inf\n",
      "         Iterations 7\n"
     ]
    },
    {
     "name": "stderr",
     "output_type": "stream",
     "text": [
      "C:\\Users\\Liu\\Anaconda3\\lib\\site-packages\\statsmodels\\discrete\\discrete_model.py:1214: RuntimeWarning: overflow encountered in exp\n",
      "  return 1/(1+np.exp(-X))\n",
      "C:\\Users\\Liu\\Anaconda3\\lib\\site-packages\\statsmodels\\discrete\\discrete_model.py:1264: RuntimeWarning: divide by zero encountered in log\n",
      "  return np.sum(np.log(self.cdf(q*np.dot(X,params))))\n"
     ]
    },
    {
     "data": {
      "text/html": [
       "<table class=\"simpletable\">\n",
       "<caption>Logit Regression Results</caption>\n",
       "<tr>\n",
       "  <th>Dep. Variable:</th>         <td>Y</td>        <th>  No. Observations:  </th>   <td> 41176</td>   \n",
       "</tr>\n",
       "<tr>\n",
       "  <th>Model:</th>               <td>Logit</td>      <th>  Df Residuals:      </th>   <td> 41174</td>   \n",
       "</tr>\n",
       "<tr>\n",
       "  <th>Method:</th>               <td>MLE</td>       <th>  Df Model:          </th>   <td>     1</td>   \n",
       "</tr>\n",
       "<tr>\n",
       "  <th>Date:</th>          <td>Mon, 10 Feb 2020</td> <th>  Pseudo R-squ.:     </th>   <td>  -inf</td>   \n",
       "</tr>\n",
       "<tr>\n",
       "  <th>Time:</th>              <td>18:06:02</td>     <th>  Log-Likelihood:    </th>  <td>    -inf</td>  \n",
       "</tr>\n",
       "<tr>\n",
       "  <th>converged:</th>           <td>True</td>       <th>  LL-Null:           </th> <td>-1.9239e+07</td>\n",
       "</tr>\n",
       "<tr>\n",
       "  <th> </th>                      <td> </td>        <th>  LLR p-value:       </th>   <td> 1.000</td>   \n",
       "</tr>\n",
       "</table>\n",
       "<table class=\"simpletable\">\n",
       "<tr>\n",
       "      <td></td>         <th>coef</th>     <th>std err</th>      <th>z</th>      <th>P>|z|</th>  <th>[0.025</th>    <th>0.975]</th>  \n",
       "</tr>\n",
       "<tr>\n",
       "  <th>intercept</th> <td>   -3.2932</td> <td>    0.028</td> <td> -116.456</td> <td> 0.000</td> <td>   -3.349</td> <td>   -3.238</td>\n",
       "</tr>\n",
       "<tr>\n",
       "  <th>duration</th>  <td>    0.0037</td> <td> 5.85e-05</td> <td>   62.479</td> <td> 0.000</td> <td>    0.004</td> <td>    0.004</td>\n",
       "</tr>\n",
       "</table>"
      ],
      "text/plain": [
       "<class 'statsmodels.iolib.summary.Summary'>\n",
       "\"\"\"\n",
       "                           Logit Regression Results                           \n",
       "==============================================================================\n",
       "Dep. Variable:                      Y   No. Observations:                41176\n",
       "Model:                          Logit   Df Residuals:                    41174\n",
       "Method:                           MLE   Df Model:                            1\n",
       "Date:                Mon, 10 Feb 2020   Pseudo R-squ.:                    -inf\n",
       "Time:                        18:06:02   Log-Likelihood:                   -inf\n",
       "converged:                       True   LL-Null:                   -1.9239e+07\n",
       "                                        LLR p-value:                     1.000\n",
       "==============================================================================\n",
       "                 coef    std err          z      P>|z|      [0.025      0.975]\n",
       "------------------------------------------------------------------------------\n",
       "intercept     -3.2932      0.028   -116.456      0.000      -3.349      -3.238\n",
       "duration       0.0037   5.85e-05     62.479      0.000       0.004       0.004\n",
       "==============================================================================\n",
       "\"\"\""
      ]
     },
     "execution_count": 32,
     "metadata": {},
     "output_type": "execute_result"
    }
   ],
   "source": [
    "lm=sm.Logit(df['Y'],df[['intercept','duration']])\n",
    "res=lm.fit()\n",
    "res.summary()"
   ]
  },
  {
   "cell_type": "code",
   "execution_count": 33,
   "metadata": {},
   "outputs": [
    {
     "data": {
      "text/plain": [
       "1.0037068534499816"
      ]
     },
     "execution_count": 33,
     "metadata": {},
     "output_type": "execute_result"
    }
   ],
   "source": [
    "np.exp(0.0037)"
   ]
  },
  {
   "cell_type": "markdown",
   "metadata": {},
   "source": [
    "由此可知，在其它条件不变时，沟通持续时长每增加一个单位，购买存款产品的可能性增加约1倍。"
   ]
  },
  {
   "cell_type": "markdown",
   "metadata": {},
   "source": [
    "## 4. 结论\n",
    "\n",
    "**1.客户的基本信息对其购买存款产品影响如下：**\n",
    "> 在其它条件不变时：\n",
    "\n",
    "> （1）年龄每增加一岁，客户购买产品的可能性增加约1倍\n",
    "\n",
    "> （2）从职业来看，学生、退休人群和无业者更有可能购买产品，前两者购买可能性高出后者2倍\n",
    "\n",
    "> （3）从婚姻状况看，单身人群比已婚、离异购买产品的可能性高出1.4倍，已婚、离异之间无区别\n",
    "\n",
    "> （4）从受教育程度看，不识字者具有最高的可能性购买产品\n",
    "\n",
    "**2.银行与客户的沟通时间选择对其购买存款产品影响如下：**\n",
    "> 在其它条件不变时：\n",
    "\n",
    "> （1）客户在三月和十月购买产品的可能性较高\n",
    "\n",
    "> （2）相比星期一，在星期二到星期四对客户推销产品，客户购买的可能性高出1.2倍\n",
    "\n",
    "> （3）与客户的沟通时长每增加1s，客户购买产品的可能性增加约1倍"
   ]
  }
 ],
 "metadata": {
  "kernelspec": {
   "display_name": "Python 3",
   "language": "python",
   "name": "python3"
  },
  "language_info": {
   "codemirror_mode": {
    "name": "ipython",
    "version": 3
   },
   "file_extension": ".py",
   "mimetype": "text/x-python",
   "name": "python",
   "nbconvert_exporter": "python",
   "pygments_lexer": "ipython3",
   "version": "3.6.3"
  }
 },
 "nbformat": 4,
 "nbformat_minor": 2
}
